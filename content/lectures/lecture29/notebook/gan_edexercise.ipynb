{
 "cells": [
  {
   "cell_type": "markdown",
   "metadata": {},
   "source": [
    "## Title\n",
    "\n",
    "Generative Adversarial Networks\n",
    "- Generate 1D Gaussian Distribution from Uniform Noise \n",
    "\n",
    "## Description\n",
    "\n",
    "In this exercise, we are going to generate 1-D Gaussian distribution from a n-D uniform distribution. This is a toy exercise in order to understand the ability of GANs (generators) to generate arbitrary distributions from random noise.\n",
    "\n",
    "\n",
    "## Hints\n",
    "\n",
    "<a href=\"https://www.tensorflow.org/api_docs/python/tf/keras/Model#train_on_batch\" target=\"_blank\">tf.keras.Model.train_on_batch()</a> tf.keras.Model.train_on_batch()\n",
    "\n",
    "Runs a single gradient update on a single batch of data.\n",
    "\n",
    "<a href=\"https://numpy.org/doc/stable/reference/generated/numpy.ones.html\" target=\"_blank\">np.ones</a> np.ones\n",
    "\n",
    "<a href=\"https://numpy.org/doc/stable/reference/generated/numpy.zeros.html\" target=\"_blank\">np.zeros</a> np.zeros"
   ]
  },
  {
   "cell_type": "markdown",
   "metadata": {},
   "source": [
    "##  🎨 Generative Models 🖼"
   ]
  },
  {
   "cell_type": "markdown",
   "metadata": {},
   "source": [
    "Generate 1-D Gaussian distribution from a n-D uniform distribution\n",
    "  \n",
    "  <hr>\n",
    "In this exercise, we are going to generate 1-D Gaussian distribution from a n-D uniform distribution.  This is a toy exercise in order to understand the ability of GANs (generators) to generate arbitrary distributions from random noise."
   ]
  },
  {
   "cell_type": "code",
   "execution_count": 227,
   "metadata": {},
   "outputs": [],
   "source": [
    "import matplotlib.pyplot as plt\n",
    "import numpy as np\n",
    "import pandas as pd\n",
    "import scipy\n",
    "from scipy.stats import norm\n",
    "\n",
    "import tensorflow as tf\n",
    "from tensorflow.keras.models import Sequential\n",
    "from tensorflow.keras.layers import Dense, Input\n",
    "from tensorflow.keras.utils import plot_model\n",
    "%matplotlib inline\n",
    "\n",
    "tf.random.set_seed(109)\n",
    "np.random.seed(109)"
   ]
  },
  {
   "cell_type": "code",
   "execution_count": 228,
   "metadata": {},
   "outputs": [
    {
     "name": "stdout",
     "output_type": "stream",
     "text": [
      "/usr/bin/zsh: /home/ting/ENTER/envs/cs109a/lib/libtinfo.so.6: no version information available (required by /usr/bin/zsh)\n"
     ]
    }
   ],
   "source": [
    "!rm -rf ./logs/ "
   ]
  },
  {
   "cell_type": "code",
   "execution_count": 229,
   "metadata": {},
   "outputs": [],
   "source": [
    "#This is our real dataset (samples from stanard normal distribution )\n",
    "def generate_data(n_samples = 10000,n_dim=1):\n",
    "    np.random.seed(109)\n",
    "    return np.random.randn(n_samples, n_dim) \n",
    "    "
   ]
  },
  {
   "cell_type": "code",
   "execution_count": 230,
   "metadata": {},
   "outputs": [],
   "source": [
    "# A general function to define feedforward architecture.\n",
    "def make_model(input_dim, \n",
    "               output_dim, \n",
    "               hidden_dim=64,\n",
    "               n_layers = 1,\n",
    "               activation='tanh',\n",
    "               optimizer='adam',\n",
    "               loss = 'binary_crossentropy'):\n",
    "    \n",
    "    model = Sequential()\n",
    "    model.add(Dense(hidden_dim,input_dim=input_dim,activation=activation))\n",
    "    \n",
    "    for _ in range(n_layers-1):\n",
    "        model.add(Dense(hidden_dim),activation=activation)\n",
    "    model.add(Dense(output_dim))\n",
    "\n",
    "    model.compile(loss=loss, optimizer=optimizer)\n",
    "    return model\n"
   ]
  },
  {
   "cell_type": "code",
   "execution_count": 231,
   "metadata": {},
   "outputs": [],
   "source": [
    "# hyper-parameters\n",
    "NOISE_DIM = 100\n",
    "DATA_DIM = 1   #this is equivalent to image size e.g. 32*32*3\n",
    "G_LAYERS = 1\n",
    "D_LAYERS = 1\n",
    "generator = make_model(NOISE_DIM, DATA_DIM, n_layers=G_LAYERS)  \n",
    "discriminator = make_model(DATA_DIM, 1, n_layers= D_LAYERS, activation='sigmoid')  \n",
    " "
   ]
  },
  {
   "cell_type": "code",
   "execution_count": 232,
   "metadata": {},
   "outputs": [],
   "source": [
    "def get_gan_network(random_dim, optimizer = 'adam'):\n",
    "    \n",
    "    #This ensures that when we combine our networks we only train the Generator.\n",
    "    #While generator training we do not want discriminator weights to be adjusted. \n",
    "    discriminator.trainable = False\n",
    "    \n",
    "    gan_input = Input(shape=(random_dim,))\n",
    "    x = generator(gan_input)\n",
    "    gan_output = discriminator(x)\n",
    "    #this model will be used to train generator\n",
    "    gan = tf.keras.Model(inputs = gan_input,outputs=gan_output)\n",
    "    gan.compile( loss='binary_crossentropy', optimizer=optimizer)\n",
    "    return gan"
   ]
  },
  {
   "cell_type": "code",
   "execution_count": 233,
   "metadata": {},
   "outputs": [
    {
     "data": {
      "text/plain": [
       "(12800, 1)"
      ]
     },
     "execution_count": 233,
     "metadata": {},
     "output_type": "execute_result"
    }
   ],
   "source": [
    "x_train = generate_data(n_samples=12800,n_dim=DATA_DIM)\n",
    "x_train.shape"
   ]
  },
  {
   "cell_type": "code",
   "execution_count": 234,
   "metadata": {},
   "outputs": [
    {
     "name": "stdout",
     "output_type": "stream",
     "text": [
      "4/4 [==============================] - 0s 775us/step\n",
      "4/4 [==============================] - 0s 850us/step\n",
      "4/4 [==============================] - 0s 643us/step\n",
      "4/4 [==============================] - 0s 637us/step\n",
      "4/4 [==============================] - 0s 761us/step\n",
      "4/4 [==============================] - 0s 648us/step\n",
      "4/4 [==============================] - 0s 631us/step\n",
      "4/4 [==============================] - 0s 667us/step\n",
      "4/4 [==============================] - 0s 652us/step\n",
      "4/4 [==============================] - 0s 676us/step\n",
      "4/4 [==============================] - 0s 635us/step\n",
      "4/4 [==============================] - 0s 759us/step\n",
      "4/4 [==============================] - 0s 646us/step\n",
      "4/4 [==============================] - 0s 662us/step\n",
      "4/4 [==============================] - 0s 718us/step\n"
     ]
    }
   ],
   "source": [
    "def train_gan(epochs=15,batch_size=128):\n",
    "    #Loads the real data \n",
    "    x_train = generate_data(n_samples=12800,n_dim=DATA_DIM)  \n",
    "    gan = get_gan_network(NOISE_DIM, 'adam') # Get GAN model \n",
    "\n",
    "    for e in range(1,epochs+1):   \n",
    "        np.random.seed(109 + e)\n",
    "        # noise from a uniform distribution \n",
    "        noise = np.random.rand(batch_size,NOISE_DIM) \n",
    "        # generate a batch of fake data/images)\n",
    "        generated_values = generator.predict(noise)\n",
    "        # the generator model has not been trained, but can still make predictions (using random parameters)\n",
    "        # !!!!!!!!\n",
    "        \n",
    "        #Gets a batch of real data (images)\n",
    "        true_batch = x_train[np.random.choice(x_train.shape[0], batch_size, replace=False), :]  \n",
    "\n",
    "        # Train discriminator on real data, use train_on_batch\n",
    "        # real data has label of all 1s\n",
    "        # train_on_batch: training a neural network model on a single batch of data.\n",
    "        disc_history_true =  discriminator.train_on_batch(true_batch, np.ones(batch_size))\n",
    "        # y should be np.ones(batch_size), instead of 1\n",
    "        # !!!!!!!!!!!!!\n",
    "        # Train discriminator on generated values, use train_on_batch\n",
    "        # fake data has label of all 0s\n",
    "        disc_history_noise = discriminator.train_on_batch(generated_values, np.zeros(batch_size))\n",
    "\n",
    "        # Train generator/GAN\n",
    "        noise = np.random.rand(batch_size,NOISE_DIM)\n",
    "        y_gen = np.ones(batch_size)      \n",
    "        # Train gan with noise, with label all 1s. \n",
    "        gan_loss = gan.train_on_batch(noise, y_gen)\n",
    "        # train gan instead of generator\n",
    "        # !!!!!!!!!!!!!\n",
    "        # why the loss function for generator is binary cross entropy but not mse\n",
    "\n",
    "        \n",
    "    return generator, discriminator, gan_loss, disc_history_true, disc_history_noise\n",
    "generator, discriminator, gan_loss, disc_history_true, disc_history_noise = train_gan()"
   ]
  },
  {
   "cell_type": "code",
   "execution_count": 235,
   "metadata": {},
   "outputs": [
    {
     "name": "stdout",
     "output_type": "stream",
     "text": [
      "15.424948692321777 15.424948692321777 0.0\n"
     ]
    }
   ],
   "source": [
    "### edTest(test_check) ###\n",
    "print( gan_loss, disc_history_true, disc_history_noise)\n"
   ]
  },
  {
   "cell_type": "code",
   "execution_count": 236,
   "metadata": {},
   "outputs": [
    {
     "name": "stdout",
     "output_type": "stream",
     "text": [
      "313/313 [==============================] - 0s 394us/step\n",
      "1st order moment -  True :  0.0 , GAN : [0.]\n",
      "2nd order moment -  True :  1.0087953803288114 , GAN : [0.11866782]\n",
      "3rd order moment -  True :  0.02760037451420669 , GAN : [0.00060622]\n",
      "4th order moment -  True :  2.99484726484523 , GAN : [0.04226395]\n"
     ]
    },
    {
     "data": {
      "image/png": "[encoded data removed]",
      "text/plain": [
       "<Figure size 640x480 with 1 Axes>"
      ]
     },
     "metadata": {},
     "output_type": "display_data"
    }
   ],
   "source": [
    "noise = np.random.rand(10000,NOISE_DIM)\n",
    "generated_values = generator.predict(noise)\n",
    "plt.hist(generated_values,bins=100)\n",
    "\n",
    "true_gaussian = [np.random.randn() for x in range(10000)]\n",
    "# np.random.randn: If no argument is given a single Python float is returned.\n",
    "# !!!!!!!\n",
    "# It's a common convention in Python list comprehensions to use a variable placeholder (like x) when you need to iterate a specific number of times, \n",
    "# but you don't actually use the variable in the expression that generates the list.\n",
    "\n",
    "print('1st order moment - ', 'True : ', scipy.stats.moment(true_gaussian, 1) , ', GAN :', scipy.stats.moment(generated_values,1))\n",
    "# mean, but different from the mean, should be the mean of difference between mean and each value\n",
    "# https://www.youtube.com/watch?v=ISaVvSO_3Sg\n",
    "print('2nd order moment - ', 'True : ', scipy.stats.moment(true_gaussian, 2) , ', GAN :', scipy.stats.moment(generated_values,2))\n",
    "# variance\n",
    "print('3rd order moment - ', 'True : ', scipy.stats.moment(true_gaussian, 3) , ', GAN :', scipy.stats.moment(generated_values,3))\n",
    "# skewness\n",
    "print('4th order moment - ', 'True : ', scipy.stats.moment(true_gaussian, 4) , ', GAN :', scipy.stats.moment(generated_values,4))\n",
    "# kurtosis\n",
    "plt.show()"
   ]
  },
  {
   "cell_type": "markdown",
   "metadata": {},
   "source": [
    "<div class=\"alert alert-block alert-info\">\n",
    "    <h3>CONCLUSIONS </h3>     <br/>\n",
    "\n",
    "1. GANs are able to learn a generative model from general noise distributions. <br/>\n",
    "\n",
    "2. Traditional GANs do not learn the higher-order moments well. Possible issues : Number of samples, approximating higher moments is hard. Usually known to under-predict higher order variances. For people interested in learning why, read more about divergence measures between distributions (particularly about Wasserstein etc.)\n",
    "    </div>\n",
    "    "
   ]
  },
  {
   "cell_type": "markdown",
   "metadata": {},
   "source": [
    "#### References\n",
    "\n",
    "- GANs in Action (Jakub Langr; Vladimir Bok) \n",
    "- https://machinelearningmastery.com/generative-adversarial-network-loss-functions/ \n",
    "- https://arxiv.org/pdf/1406.2661.pdf"
   ]
  },
  {
   "cell_type": "code",
   "execution_count": null,
   "metadata": {},
   "outputs": [],
   "source": []
  }
 ],
 "metadata": {
  "kernelspec": {
   "display_name": "Python 3",
   "language": "python",
   "name": "python3"
  },
  "language_info": {
   "codemirror_mode": {
    "name": "ipython",
    "version": 3
   },
   "file_extension": ".py",
   "mimetype": "text/x-python",
   "name": "python",
   "nbconvert_exporter": "python",
   "pygments_lexer": "ipython3",
   "version": "3.11.5"
  }
 },
 "nbformat": 4,
 "nbformat_minor": 4
}
