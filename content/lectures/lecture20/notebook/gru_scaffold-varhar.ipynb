{
 "cells": [
  {
   "cell_type": "markdown",
   "metadata": {},
   "source": [
    "## Title :\n",
    "Vanishing Gradients\n",
    "\n",
    "## Description :\n",
    "The goal of this exercise is to understand the vanishing gradient problem in training RNNs and using various methods to improve training.\n",
    "\n",
    "In order to do this exercise, we will use the IMDB movie review dataset to perform sentiment analysis.\n",
    "\n",
    "Your final comparison for the trace plot may look something like this:\n",
    "\n",
    "<img src=\"../fig/fig.png\" style=\"width: 500px;\">\n",
    "\n",
    "## Instructions:\n",
    "- Read the IMDB dataset from the helper code given.\n",
    "- Take a quick look at your training inputs and labels.\n",
    "- Pad the values to a fix number `max_words` in-order to have sequences of the same size.\n",
    "- First post pad the inputs with `padding='post'` i.e sequences smaller than `max_words` will be followed by zero padding.\n",
    "- Build, compile and fit a Vanilla RNN and evaluate it on the test set.\n",
    "- Now refit the model, but this time post pad the inputs with `padding='pre'`\n",
    "- Again evaluate the model performance on the test set.\n",
    "- Finally, rebuild a model with the Gated Recurrent Unit and fit and evaluate on the training and test set respectively.\n",
    "- Compare the performance of all three models similar to the table above.\n",
    "\n",
    "## Hints:\n",
    "\n",
    "<a href=\"https://www.tensorflow.org/api_docs/python/tf/keras/preprocessing/sequence/pad_sequences\" target=\"_blank\">tensorflow.keras.preprocessing.sequence.pad_sequences()</a> Pad the sequences to same length - pre/post."
   ]
  },
  {
   "cell_type": "markdown",
   "metadata": {},
   "source": [
    "## Vanilla RNNs\n",
    "\n",
    "We will use Vanilla Recurrent Neural Networks to perform sentiment analysis in `tensorflow.keras` using imdb movie reviews dataset.\n",
    "The dataset is a subset consisting of 10,000 reviews in the training and test set each. [see here for more info](https://www.tensorflow.org/datasets/catalog/imdb_reviews)"
   ]
  },
  {
   "cell_type": "code",
   "execution_count": 1,
   "metadata": {},
   "outputs": [
    {
     "name": "stderr",
     "output_type": "stream",
     "text": [
      "2023-08-07 22:20:15.075606: I tensorflow/tsl/cuda/cudart_stub.cc:28] Could not find cuda drivers on your machine, GPU will not be used.\n",
      "2023-08-07 22:20:15.102817: I tensorflow/tsl/cuda/cudart_stub.cc:28] Could not find cuda drivers on your machine, GPU will not be used.\n",
      "2023-08-07 22:20:15.103239: I tensorflow/core/platform/cpu_feature_guard.cc:182] This TensorFlow binary is optimized to use available CPU instructions in performance-critical operations.\n",
      "To enable the following instructions: AVX2 FMA, in other operations, rebuild TensorFlow with the appropriate compiler flags.\n",
      "2023-08-07 22:20:15.782084: W tensorflow/compiler/tf2tensorrt/utils/py_utils.cc:38] TF-TRT Warning: Could not find TensorRT\n"
     ]
    }
   ],
   "source": [
    "# Import required libraries\n",
    "from tensorflow.keras.datasets import imdb\n",
    "from tensorflow.keras.preprocessing import sequence\n",
    "from tensorflow.keras import Sequential\n",
    "from tensorflow.keras.layers import Embedding, SimpleRNN, Dense,GRU\n",
    "import pickle\n",
    "import numpy as np\n",
    "import matplotlib.pyplot as plt\n",
    "from prettytable import PrettyTable\n",
    "from pprint import pprint"
   ]
  },
  {
   "cell_type": "code",
   "execution_count": 20,
   "metadata": {},
   "outputs": [],
   "source": [
    "# We fix a vocabulary size of 5000\n",
    "# Use the code below to call a small subset of the imdb dataset\n",
    "# We keep the vocabulary size fixed because it was used to curate the sub-dataset\n",
    "vocabulary_size = 5000\n",
    "# with open('imdb_mini.pkl','rb') as f:\n",
    "    # X_train, y_train, X_test, y_test = pickle.load(f)\n"
   ]
  },
  {
   "cell_type": "markdown",
   "metadata": {},
   "source": [
    "#### Inspect a sample review and its label"
   ]
  },
  {
   "cell_type": "code",
   "execution_count": 60,
   "metadata": {},
   "outputs": [
    {
     "name": "stderr",
     "output_type": "stream",
     "text": [
      "[nltk_data] Downloading package stopwords to /home/ting/nltk_data...\n",
      "[nltk_data]   Package stopwords is already up-to-date!\n",
      "[nltk_data] Downloading package punkt to /home/ting/nltk_data...\n",
      "[nltk_data]   Package punkt is already up-to-date!\n"
     ]
    }
   ],
   "source": [
    "import pandas as pd\n",
    "data = pd.read_csv(\"IMDB Dataset.csv\")\n",
    "\n",
    "import re\n",
    "\n",
    "def process(x):\n",
    "    x = re.sub('[,\\.!?:()\"]', '', x)\n",
    "    x = re.sub('<.*?>', ' ', x)\n",
    "    x = re.sub('http\\S+', ' ', x)\n",
    "    # \\S+: matches one or more non-whitespace characters\n",
    "    x = re.sub('[^a-zA-Z0-9]', ' ', x)\n",
    "    # matches any character that is not (^ negation) an uppercase letter (A-Z), a lowercase letter (a-z), or a digit (0-9).\n",
    "    x = re.sub('\\s+', ' ', x)\n",
    "    # \\s: matches any whitespace character, such as spaces, tabs, and newline characters.\n",
    "    return x.lower().strip()\n",
    "\n",
    "data['review'] = data['review'].apply(lambda x: process(x))\n",
    "\n",
    "import nltk\n",
    "nltk.download('stopwords')\n",
    "nltk.download('punkt')\n",
    "\n",
    "sw_set = set(nltk.corpus.stopwords.words('english'))\n",
    "\n",
    "def sw_remove(x):\n",
    "    words = nltk.tokenize.word_tokenize(x)\n",
    "    filtered_list = [word for word in words if word not in sw_set]\n",
    "    return ' '.join(filtered_list)\n",
    "\n",
    "data['review'] = data['review'].apply(lambda x: sw_remove(x))\n",
    "\n",
    "from sklearn.model_selection import train_test_split\n",
    "train, test = train_test_split(data, test_size = 0.2, random_state=109)\n",
    "\n",
    "X_train = train[\"review\"]\n",
    "y_train = 1 * (train[\"sentiment\"] == \"positive\")\n",
    "X_test = test[\"review\"]\n",
    "y_test = 1*(test[\"sentiment\"] == \"positive\")\n",
    "\n",
    "from keras.preprocessing.text import Tokenizer\n",
    "\n",
    "dict_size = 5000\n",
    "tokenizer = Tokenizer(num_words=dict_size)\n",
    "tokenizer.fit_on_texts(data['review'])\n",
    "\n",
    "train_rev_tokens = tokenizer.texts_to_sequences(X_train)\n",
    "test_rev_tokens = tokenizer.texts_to_sequences(X_test)\n",
    "seq_lengths =  np.array([len(sequence) for sequence in train_rev_tokens])"
   ]
  },
  {
   "cell_type": "code",
   "execution_count": 6,
   "metadata": {},
   "outputs": [
    {
     "name": "stdout",
     "output_type": "stream",
     "text": [
      "---review---\n",
      "[1423, 2, 486, 172, 356, 151, 536, 791, 10, 1, 868, 21, 171, 2238, 1221, 23, 345, 1651, 522, 76, 2129, 19, 2547, 4956, 2110, 3009, 2238, 1221, 609, 153, 3009, 86, 1237, 261, 2385, 3466, 607, 1221, 1221, 86, 96, 653, 587, 2123, 340, 71, 1218, 342, 2396, 297, 1651, 162, 291, 4939, 192, 2397, 254, 2123, 92, 4913, 3437, 162, 356, 144, 252, 576, 10, 948, 112, 8, 34, 40, 587, 148, 1610, 963, 74, 10, 849, 1251, 2507, 1640, 141, 16, 638, 133, 1, 1542, 655, 377, 17, 77, 919, 486, 349]\n",
      "---label---\n",
      "1\n"
     ]
    }
   ],
   "source": [
    "# Run the code below to see the first tokenized review and the label\n",
    "print('---review---')\n",
    "print(train_rev_tokens[0])\n",
    "print('---label---')\n",
    "print(y_train[0])"
   ]
  },
  {
   "cell_type": "code",
   "execution_count": 15,
   "metadata": {},
   "outputs": [
    {
     "name": "stdout",
     "output_type": "stream",
     "text": [
      "'---review with words---'\n",
      "('filming <UNK> humor same classic though thinking elements br <START> stage '\n",
      " 'but few parker audiences on either struggle late much laughter with magical '\n",
      " 'willis types served parker audiences hell years served first involving '\n",
      " 'although category luckily save audiences audiences first way change '\n",
      " 'including bear completely were images 3 fare play struggle new year sink '\n",
      " \"fact north hard bear don't craven increasingly new classic should sure \"\n",
      " 'extremely br creepy being to by like including those rented e than br indeed '\n",
      " 'aspect accidentally favourite such was across here <START> seven middle '\n",
      " 'remember as been laughs humor men')\n",
      "'---label---'\n",
      "1\n"
     ]
    }
   ],
   "source": [
    "# You can get the word2id mapping by\n",
    "# using the imdb.get_word_index() function\n",
    "\n",
    "word2id = imdb.get_word_index()\n",
    "# We need to adjust the mapping by 3 because of tensorflow.keras preprocessing\n",
    "# more here: https://stackoverflow.com/questions/42821330/restore-original-text-from-keras-s-imdb-dataset\n",
    "word2id = {k:(v+3) for k,v in word2id.items()}\n",
    "word2id[\"<PAD>\"] = 0\n",
    "word2id[\"<START>\"] = 1\n",
    "word2id[\"<UNK>\"] = 2\n",
    "word2id[\"<UNUSED>\"] = 3\n",
    "\n",
    "# Reversing the key,value pair will give the id2word\n",
    "id2word = {i: word for word, i in word2id.items()}\n",
    "pprint('---review with words---')\n",
    "pprint(\" \".join([id2word[i] for i in train_rev_tokens[0]]))\n",
    "pprint('---label---')\n",
    "pprint(y_train[0]);\n",
    "\n",
    "# NOT match X_train[0], perhaps because train_rev_tokens and word2id used different index"
   ]
  },
  {
   "cell_type": "code",
   "execution_count": 13,
   "metadata": {},
   "outputs": [
    {
     "data": {
      "text/plain": [
       "'one reviewers mentioned watching 1 oz episode hooked right exactly happened first thing struck oz brutality unflinching scenes violence set right word go trust show faint hearted timid show pulls punches regards drugs sex violence hardcore classic use word called oz nickname given oswald maximum security state penitentary focuses mainly emerald city experimental section prison cells glass fronts face inwards privacy high agenda em city home manyaryans muslims gangstas latinos christians italians irish moreso scuffles death stares dodgy dealings shady agreements never far away would say main appeal show due fact goes shows dare forget pretty pictures painted mainstream audiences forget charm forget romanceoz mess around first episode ever saw struck nasty surreal say ready watched developed taste oz got accustomed high levels graphic violence violence injustice crooked guards sold nickel inmates kill order get away well mannered middle class inmates turned prison bitches due lack street skills prison experience watching oz may become comfortable uncomfortable viewingthats get touch darker side'"
      ]
     },
     "execution_count": 13,
     "metadata": {},
     "output_type": "execute_result"
    }
   ],
   "source": [
    "X_train[0]"
   ]
  },
  {
   "cell_type": "markdown",
   "metadata": {},
   "source": [
    "Maximum review length and minimum review length"
   ]
  },
  {
   "cell_type": "markdown",
   "metadata": {},
   "source": [
    "### ⏸ The `<UNK>` tag is reserved for?\n",
    "\n",
    "\n",
    "#### A. Special characters\n",
    "#### B. Out of vocabulary words\n",
    "#### C. Start of sentence\n",
    "#### D. End of sentence"
   ]
  },
  {
   "cell_type": "code",
   "execution_count": 5,
   "metadata": {},
   "outputs": [],
   "source": [
    "### edTest(test_chow1) ###\n",
    "# Submit an answer choice as a string below (eg. if you choose option C, put 'C')\n",
    "answer1 = 'B'"
   ]
  },
  {
   "cell_type": "code",
   "execution_count": 16,
   "metadata": {},
   "outputs": [
    {
     "name": "stdout",
     "output_type": "stream",
     "text": [
      "Maximum review length: 916\n",
      "Minimum review length: 2\n"
     ]
    }
   ],
   "source": [
    "# For training we need our sequences to be of fixed length, but the reviews\n",
    "# are of different sizes\n",
    "print(f'Maximum review length: {len(max([i for i in train_rev_tokens]+[i for i in test_rev_tokens], key=len))}')\n",
    "# key = len\n",
    "print(f'Minimum review length: {len(min([i for i in train_rev_tokens]+[i for i in test_rev_tokens], key=len))}')"
   ]
  },
  {
   "cell_type": "code",
   "execution_count": 17,
   "metadata": {},
   "outputs": [],
   "source": [
    "# We also create two indices for short and long reviews\n",
    "# we will use this later\n",
    "idx_short = [i for i,val in enumerate(train_rev_tokens) if len(val)<100]\n",
    "idx_long = [i for i,val in enumerate(train_rev_tokens) if len(val)>500]"
   ]
  },
  {
   "cell_type": "markdown",
   "metadata": {},
   "source": [
    "### Pad sequences\n",
    "\n",
    "In order to feed this data into our RNN, all input documents must have the same length. We will limit the maximum review length to max_words by truncating longer reviews and padding shorter reviews. We can accomplish this using the pad_sequences() function in `tensorflow.keras`. For now, set max_words to 500."
   ]
  },
  {
   "cell_type": "markdown",
   "metadata": {},
   "source": [
    "### ⏸ If we use *post-padding* on a sequence, the new sequence is\"\n",
    "\n",
    "\n",
    "#### A. \"Padded with zeros before the start of original sequence\"\n",
    "#### B. \"Padded with zeros after the end of the original sequence\"\n",
    "#### C. \"Padded with ones before the start of original sequence\"\n",
    "#### D. \"Padded with ones after the end of the original sequence\""
   ]
  },
  {
   "cell_type": "code",
   "execution_count": 8,
   "metadata": {},
   "outputs": [],
   "source": [
    "### edTest(test_chow2) ###\n",
    "# Submit an answer choice as a string below (eg. if you choose option C, put 'C')\n",
    "answer2 = 'B'"
   ]
  },
  {
   "cell_type": "code",
   "execution_count": 66,
   "metadata": {},
   "outputs": [],
   "source": [
    "# We will clip large reviews and pad smaller reviews to 500 words\n",
    "max_words = 500\n",
    "# We can pad the smaller sequences with 0s before, or after.\n",
    "# This choice can severely affect network performance\n",
    "# In the first case we, will pad after the sequence \n",
    "# Please utilize sequence.pad_sequences()\n",
    "postpad_X_train = sequence.pad_sequences(train_rev_tokens, maxlen= max_words, padding=\"post\")\n",
    "postpad_X_test = sequence.pad_sequences(test_rev_tokens, maxlen = max_words, padding=\"post\")"
   ]
  },
  {
   "cell_type": "markdown",
   "metadata": {},
   "source": [
    "### RNN model for sentiment analysis\n",
    "\n",
    "We build the model architecture in the code cell below. We have imported some layers from `tensorflow.keras` that you might need but feel free to use any other layers / transformations you like.\n",
    "\n",
    "Remember that our input is a sequence of words (technically, integer word IDs) of maximum length = max_words, and our output is a binary sentiment label (0 or 1)."
   ]
  },
  {
   "cell_type": "code",
   "execution_count": 19,
   "metadata": {},
   "outputs": [],
   "source": [
    "def model_maker(summary=True,gru=False):\n",
    "# One layer RNN model with 32 rnn cells\n",
    "    embedding_size=32\n",
    "    model=Sequential()\n",
    "    model.add(Embedding(vocabulary_size, embedding_size, input_length=max_words))\n",
    "    \n",
    "    # We can specify if we want the GRU cell or the vanilla RNN cell\n",
    "    if gru:\n",
    "        model.add(GRU(32))\n",
    "    else:\n",
    "        model.add(SimpleRNN(32))\n",
    "        # tf.keras.layers.SimpleRNN(units,\n",
    "\n",
    "    model.add(Dense(1, activation='sigmoid'))\n",
    "    if summary:\n",
    "        print(model.summary())\n",
    "        \n",
    "    # model compile step\n",
    "    model.compile(loss='binary_crossentropy', \n",
    "                 optimizer='adam', \n",
    "                 metrics=['accuracy'])    \n",
    "    return model"
   ]
  },
  {
   "cell_type": "markdown",
   "metadata": {},
   "source": [
    "## Trace Plot analysis\n",
    "We expect the postpadded model to perform train slowly because of vanishing gradients.\n",
    "Let us investigate the cause by training two models,\n",
    "- One with shorter reviews (that were post padded) using `idx_short`\n",
    "- The other with longer reviews (that were truncated) using `idx_long`"
   ]
  },
  {
   "cell_type": "code",
   "execution_count": 21,
   "metadata": {},
   "outputs": [
    {
     "name": "stderr",
     "output_type": "stream",
     "text": [
      "2023-08-10 13:08:47.444999: E tensorflow/compiler/xla/stream_executor/cuda/cuda_driver.cc:268] failed call to cuInit: CUDA_ERROR_NO_DEVICE: no CUDA-capable device is detected\n"
     ]
    }
   ],
   "source": [
    "# We build two new models with vanilla RNNs\n",
    "model_short = model_maker(summary=False)\n",
    "model_long = model_maker(summary=False)"
   ]
  },
  {
   "cell_type": "code",
   "execution_count": 68,
   "metadata": {},
   "outputs": [
    {
     "name": "stderr",
     "output_type": "stream",
     "text": [
      "2023-08-10 14:29:15.735714: W tensorflow/tsl/framework/cpu_allocator_impl.cc:83] Allocation of 53988000 exceeds 10% of free system memory.\n",
      "2023-08-10 14:29:16.481000: W tensorflow/tsl/framework/cpu_allocator_impl.cc:83] Allocation of 40960000 exceeds 10% of free system memory.\n",
      "2023-08-10 14:29:16.491545: W tensorflow/tsl/framework/cpu_allocator_impl.cc:83] Allocation of 40960000 exceeds 10% of free system memory.\n",
      "2023-08-10 14:29:16.592699: W tensorflow/tsl/framework/cpu_allocator_impl.cc:83] Allocation of 40960000 exceeds 10% of free system memory.\n",
      "2023-08-10 14:29:16.602814: W tensorflow/tsl/framework/cpu_allocator_impl.cc:83] Allocation of 40960000 exceeds 10% of free system memory.\n"
     ]
    }
   ],
   "source": [
    "# First we train `model_short` with short reviews\n",
    "# set epochs to 10\n",
    "\n",
    "X_short = postpad_X_train[idx_short]\n",
    "y_short = y_train.reset_index(drop = True)[idx_short]\n",
    "epochs = 10\n",
    "history_short = model_short.fit(X_short, y_short, epochs=epochs,batch_size=640,verbose=0);"
   ]
  },
  {
   "cell_type": "code",
   "execution_count": 69,
   "metadata": {},
   "outputs": [],
   "source": [
    "# Then we train `model_long` with short reviews\n",
    "\n",
    "X_long = postpad_X_train[idx_long]\n",
    "y_long = y_train.reset_index(drop = True)[idx_long]\n",
    "history_long = model_long.fit(X_long,y_long, epochs=epochs,batch_size=640,verbose=0);"
   ]
  },
  {
   "cell_type": "code",
   "execution_count": 70,
   "metadata": {},
   "outputs": [
    {
     "name": "stdout",
     "output_type": "stream",
     "text": [
      "(26994, 500) (26994,) (19, 500) (19,)\n"
     ]
    }
   ],
   "source": [
    "### edTest(test_chow2_1) ###\n",
    "X_short_shape, y_short_shape = X_short.shape, y_short.shape\n",
    "X_long_shape, y_long_shape = X_long.shape, y_long.shape\n",
    "print(X_short_shape, y_short_shape,X_long_shape, y_long_shape)"
   ]
  },
  {
   "cell_type": "code",
   "execution_count": 71,
   "metadata": {},
   "outputs": [
    {
     "data": {
      "image/png": "[encoded data removed]",
      "text/plain": [
       "<Figure size 800x600 with 1 Axes>"
      ]
     },
     "metadata": {},
     "output_type": "display_data"
    }
   ],
   "source": [
    "# Helper function to plot the data\n",
    "# Plot the MSE of the model\n",
    "plt.rcParams[\"figure.figsize\"] = (8,6)\n",
    "plt.title(\"Padding='post'\",fontsize=20)\n",
    "plt.semilogy(history_short.history['loss'], label='Shorter reviews', color='#FF9A98', linewidth=3)\n",
    "plt.semilogy(history_long.history['loss'],  label='Longer reviews', color='#75B594', linewidth=3)\n",
    "plt.legend()\n",
    "\n",
    "# Set the axes labels\n",
    "plt.xlabel('Epochs',fontsize=14)\n",
    "plt.xticks(range(1,epochs,4))\n",
    "plt.ylabel('MSE Loss',fontsize=14)\n",
    "plt.legend(fontsize=14)\n",
    "plt.show()"
   ]
  },
  {
   "cell_type": "markdown",
   "metadata": {},
   "source": [
    "## Pre-padding sequences\n",
    "\n",
    "As we can see, the vanishing gradient problem is real and can severely affect the training of our network. The short review network negligibly trains, whereas the longer review model trains very well.\n",
    "To counter this, we will now *pre-pad* the shorter sequences."
   ]
  },
  {
   "cell_type": "code",
   "execution_count": 72,
   "metadata": {},
   "outputs": [],
   "source": [
    "# We can pre-pad by using `sequence.pad_sequences` with `padding='pre'`\n",
    "max_words = 500\n",
    "prepad_X_train = sequence.pad_sequences(train_rev_tokens, maxlen=max_words, padding = \"pre\")\n",
    "prepad_X_test = sequence.pad_sequences(test_rev_tokens, maxlen=max_words, padding = \"pre\")"
   ]
  },
  {
   "cell_type": "markdown",
   "metadata": {},
   "source": [
    "### Trace Plot - Take 2\n",
    "\n",
    "Again, we investigate the trace plots for the two categories, but this time, with pre-padding"
   ]
  },
  {
   "cell_type": "code",
   "execution_count": 73,
   "metadata": {},
   "outputs": [],
   "source": [
    "# Reinitializing the models for the two categories\n",
    "model_short = model_maker(summary=False)\n",
    "model_long = model_maker(summary=False)"
   ]
  },
  {
   "cell_type": "code",
   "execution_count": 74,
   "metadata": {},
   "outputs": [],
   "source": [
    "# Again we train `model_short` with short reviews\n",
    "\n",
    "X_short = prepad_X_train[idx_short]\n",
    "y_short = y_train.reset_index(drop = True)[idx_short]\n",
    "epochs = 10\n",
    "history_short = model_short.fit(X_short, y_short, epochs=epochs,batch_size=640,verbose=0);"
   ]
  },
  {
   "cell_type": "code",
   "execution_count": 75,
   "metadata": {},
   "outputs": [],
   "source": [
    "# Then we train `model_long` with short reviews\n",
    "\n",
    "X_long = prepad_X_train[idx_long]\n",
    "y_long = y_train.reset_index(drop=True)[idx_long]\n",
    "history_long = model_long.fit(X_long, y_long, epochs=epochs,batch_size=640,verbose=0);"
   ]
  },
  {
   "cell_type": "code",
   "execution_count": 76,
   "metadata": {},
   "outputs": [
    {
     "data": {
      "image/png": "[encoded data removed]",
      "text/plain": [
       "<Figure size 800x600 with 1 Axes>"
      ]
     },
     "metadata": {},
     "output_type": "display_data"
    }
   ],
   "source": [
    "# Helper function to plot the data\n",
    "# Plot the MSE of the model\n",
    "plt.rcParams[\"figure.figsize\"] = (8,6)\n",
    "plt.title(\"Padding='pre'\",fontsize=20)\n",
    "plt.semilogy(history_short.history['loss'], label='Shorter reviews', color='#FF9A98', linewidth=3)\n",
    "plt.semilogy(history_long.history['loss'],  label='Longer reviews', color='#75B594', linewidth=3)\n",
    "plt.legend()\n",
    "\n",
    "# Set the axes labels\n",
    "plt.xlabel('Epochs',fontsize=14)\n",
    "plt.xticks(range(1,epochs,4))\n",
    "plt.ylabel('MSE Loss',fontsize=14)\n",
    "plt.legend(fontsize=14)\n",
    "plt.show()"
   ]
  },
  {
   "cell_type": "markdown",
   "metadata": {},
   "source": [
    "### 🍲 Further improvements\n",
    "\n",
    "We solved the vanishing gradient problem by *pre-padding* the sequences, but what other design choices can help you improve performance?"
   ]
  },
  {
   "attachments": {},
   "cell_type": "markdown",
   "metadata": {},
   "source": [
    "pre padding: meaningful data is encountered and processed early in the sequence"
   ]
  },
  {
   "cell_type": "code",
   "execution_count": 20,
   "metadata": {},
   "outputs": [],
   "source": [
    "### edTest(test_chow3) ###\n",
    "# Submit your answer as a string below\n",
    "answer3 = '___'"
   ]
  }
 ],
 "metadata": {
  "kernelspec": {
   "display_name": "Python 3",
   "language": "python",
   "name": "python3"
  },
  "language_info": {
   "codemirror_mode": {
    "name": "ipython",
    "version": 3
   },
   "file_extension": ".py",
   "mimetype": "text/x-python",
   "name": "python",
   "nbconvert_exporter": "python",
   "pygments_lexer": "ipython3",
   "version": "3.11.3"
  }
 },
 "nbformat": 4,
 "nbformat_minor": 4
}
