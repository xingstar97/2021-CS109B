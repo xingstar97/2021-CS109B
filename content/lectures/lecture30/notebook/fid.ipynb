{
 "cells": [
  {
   "cell_type": "markdown",
   "metadata": {},
   "source": [
    "## Title\n",
    "\n",
    "Fréchet distance (numpy)\n",
    "\n",
    "## Description\n",
    "\n",
    "$$FD=\\left|\\mu-\\mu_w\\right|^2+tr\\left(\\Sigma+\\Sigma_w-2\\left(\\Sigma\\Sigma_w\\right)^{\\frac{1}{2}}\\right)$$\n",
    "\n",
    "\n",
    "## Hints\n",
    "\n",
    "<a href=\"https://numpy.org/doc/stable/reference/generated/numpy.cov.html\" target=\"_blank\">numpy cov</a>\n",
    "\n",
    "<a href=\"https://numpy.org/doc/stable/reference/generated/numpy.trace.html\" target=\"_blank\">numpy trace</a>"
   ]
  },
  {
   "attachments": {},
   "cell_type": "markdown",
   "metadata": {},
   "source": [
    "Tr: This denotes the trace operation, which calculates the sum of the diagonal elements of a square matrix."
   ]
  },
  {
   "cell_type": "code",
   "execution_count": 1,
   "metadata": {},
   "outputs": [],
   "source": [
    "# calculate frechet inception distance with numpy\n",
    "import numpy as np\n",
    "from scipy.linalg import sqrtm"
   ]
  },
  {
   "cell_type": "code",
   "execution_count": 8,
   "metadata": {},
   "outputs": [],
   "source": [
    "# calculate frechet inception distance\n",
    "def calculate_fd(act1, act2):\n",
    "\t# calculate mean and covariance statistics\n",
    "\t# The “mu_1” and “mu_2” refer to the feature-wise mean of the real \n",
    "\t# and generated images, e.g. 2,048 element vectors where each \n",
    "\t# element is the mean feature observed across the images.\n",
    "\tmu1, mu2 = np.mean(act1, axis = 0), np.mean(act2, axis =0)\n",
    "\t\n",
    "\t# The sigma1 and sigma2 are the covariance matrix for the real \n",
    "\t# and generated feature vectors. \n",
    "\t# Remember each row is a sample/image.\n",
    "\tsigma1, sigma2 = np.cov(act1), np.cov(act2)\n",
    "\t\n",
    "\t# calculate sum squared difference between means\n",
    "\tssdiff = np.sum((mu1 - mu2)**2.0)\n",
    "\t# calculate sqrt of product between cov\n",
    "\tcovmean = sqrtm(sigma1.dot(sigma2))\n",
    "\t# check and correct imaginary numbers from sqrt\n",
    "\tif np.iscomplexobj(covmean):\n",
    "\t\tcovmean = covmean.real\n",
    "\n",
    "\t# calculate score\n",
    "\tfd = ssdiff + np.trace(sigma1 + sigma2 -2*covmean)\n",
    "\n",
    "\treturn fd"
   ]
  },
  {
   "cell_type": "code",
   "execution_count": 9,
   "metadata": {},
   "outputs": [
    {
     "name": "stdout",
     "output_type": "stream",
     "text": [
      "FD (same): 0.000\n",
      "FD (different): 34.433\n"
     ]
    }
   ],
   "source": [
    "### edTest(test_check) ###\n",
    "# define two collections of activations\n",
    "np.random.seed(109)\n",
    "# We assume 10 images\n",
    "# The output layer of the Inception model is removed and the output \n",
    "# is taken as the activations from the last pooling layer, hence 2048.\n",
    "act1 = np.random.random(10*2048)\n",
    "act1 = act1.reshape((10,2048))\n",
    "np.random.seed(295)\n",
    "act2 = np.random.random(10*2048)\n",
    "act2 = act2.reshape((10,2048))\n",
    "# fd between act1 and act1\n",
    "fd = calculate_fd(act1, act1)\n",
    "print('FD (same): %.3f' % fd)\n",
    "# fd between act1 and act2\n",
    "fd = calculate_fd(act1, act2)\n",
    "print('FD (different): %.3f' % fd)"
   ]
  },
  {
   "cell_type": "code",
   "execution_count": 2,
   "metadata": {},
   "outputs": [],
   "source": []
  },
  {
   "cell_type": "code",
   "execution_count": 3,
   "metadata": {},
   "outputs": [],
   "source": []
  },
  {
   "cell_type": "code",
   "execution_count": 4,
   "metadata": {},
   "outputs": [],
   "source": []
  }
 ],
 "metadata": {
  "kernelspec": {
   "display_name": "Python 3",
   "language": "python",
   "name": "python3"
  },
  "language_info": {
   "codemirror_mode": {
    "name": "ipython",
    "version": 3
   },
   "file_extension": ".py",
   "mimetype": "text/x-python",
   "name": "python",
   "nbconvert_exporter": "python",
   "pygments_lexer": "ipython3",
   "version": "3.11.5"
  }
 },
 "nbformat": 4,
 "nbformat_minor": 2
}
