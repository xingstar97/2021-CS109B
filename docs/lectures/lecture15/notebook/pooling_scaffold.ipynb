{
 "cells": [
  {
   "cell_type": "markdown",
   "metadata": {},
   "source": [
    "## Title :\n",
    "Pooling Mechanics\n",
    "\n",
    "## Description :\n",
    "The aim of this exercise is to understand the difference between average and max pooling by comparing the accuracy and number of parameters for the classification of MNIST digits.\n",
    "\n",
    "<img src=\"../fig/fig2.png\" style=\"width: 500px;\">\n",
    "\n",
    "## Instructions :\n",
    "\n",
    "- Use the helper function `get_data()` to get the train and test data.\n",
    "- Define a function `cnn_model` that returns a Convolutional Neural Network whose architecture varies based on a variable pool_type:\n",
    "    - When `pool_type` is `no_pooling` the model does not have any pooling layers.\n",
    "    - When `pool_type` is `max_pooling` add a max-pooling layer to the model.\n",
    "    - When `pool_type` is `avg_pooling` add an average-pooling layer to the model.\n",
    "- Compile the model and fit it on the training data.\n",
    "- Call the function thrice:\n",
    "    - Once for a model with no pooling layer.\n",
    "    - Once for a model with average pooling.\n",
    "    - Once for a model with max pooling.\n",
    "- For each of the above mentioned calls, compute the number of parameters in the model and the accuracy of the model on the test data.\n",
    "- Use the helper code given to visualise the computed accuracy, loss and number of parameters of all 3 models.\n",
    "\n",
    "## Hints: \n",
    "\n",
    "<a href=\"https://www.tensorflow.org/api_docs/python/tf/keras/layers/MaxPool2D\" target=\"_blank\">MaxPooling2D()</a>Max pooling operation for 2D spatial data.\n",
    "\n",
    "<a href=\"https://www.tensorflow.org/api_docs/python/tf/keras/layers/AveragePooling2D\" target=\"_blank\">AveragePooling2D()</a>Average pooling operation for spatial data.\n",
    "\n",
    "NOTE - In the case of pooling layers, if no stride size is mentioned the default size is the size of the pooling.\n",
    "\n",
    "<a href=\"https://www.tensorflow.org/api_docs/python/tf/keras/Model#compile\" target=\"_blank\">compile()</a>Configures the model for training.\n",
    "\n",
    "<a href=\"https://www.tensorflow.org/api_docs/python/tf/keras/layers/Conv2D\" target=\"_blank\">Conv2D()</a> 2D convolution layer (e.g. spatial convolution over images).\n",
    "\n",
    "<a href=\"https://www.tensorflow.org/api_docs/python/tf/keras/layers/Conv2D\" target=\"_blank\">flatten()</a>Flattens the input.\n",
    "\n",
    "<a href=\"https://www.tensorflow.org/api_docs/python/tf/keras/layers/Dense\" target=\"_blank\">Dense()</a>A regular densely-connected NN layer.\n",
    "\n",
    "<a href=\"https://www.tensorflow.org/api_docs/python/tf/keras/layers/Dropout\" target=\"_blank\">Dropout()</a> Applies Dropout to the corresponding input"
   ]
  },
  {
   "cell_type": "code",
   "execution_count": 2,
   "metadata": {},
   "outputs": [
    {
     "name": "stderr",
     "output_type": "stream",
     "text": [
      "2023-07-30 21:46:14.786175: I tensorflow/tsl/cuda/cudart_stub.cc:28] Could not find cuda drivers on your machine, GPU will not be used.\n",
      "2023-07-30 21:46:14.818842: I tensorflow/tsl/cuda/cudart_stub.cc:28] Could not find cuda drivers on your machine, GPU will not be used.\n",
      "2023-07-30 21:46:14.819671: I tensorflow/core/platform/cpu_feature_guard.cc:182] This TensorFlow binary is optimized to use available CPU instructions in performance-critical operations.\n",
      "To enable the following instructions: AVX2 FMA, in other operations, rebuild TensorFlow with the appropriate compiler flags.\n",
      "2023-07-30 21:46:15.359854: W tensorflow/compiler/tf2tensorrt/utils/py_utils.cc:38] TF-TRT Warning: Could not find TensorRT\n"
     ]
    }
   ],
   "source": [
    "# Import necessary libraries\n",
    "import numpy as np\n",
    "import tensorflow as tf\n",
    "from numpy.random import seed\n",
    "import matplotlib.pyplot as plt\n",
    "from prettytable import PrettyTable\n",
    "from helper2 import get_data, plot_activation\n",
    "from tensorflow.keras.models import Sequential\n",
    "from sklearn.model_selection import train_test_split\n",
    "from tensorflow.keras.layers import Dense,Conv2D,Dropout,Flatten,MaxPooling2D,AveragePooling2D\n",
    "\n",
    "# Set random seed\n",
    "seed(1)\n",
    "tf.random.set_seed(1)\n",
    "\n",
    "%matplotlib inline"
   ]
  },
  {
   "cell_type": "code",
   "execution_count": 3,
   "metadata": {},
   "outputs": [],
   "source": [
    "# Use the helper function get_data to get the train and \n",
    "# test MNIST dataset\n",
    "x_train, y_train, x_test, y_test = get_data()"
   ]
  },
  {
   "cell_type": "code",
   "execution_count": 5,
   "metadata": {},
   "outputs": [
    {
     "data": {
      "text/plain": [
       "(7500, 28, 28, 1)"
      ]
     },
     "execution_count": 5,
     "metadata": {},
     "output_type": "execute_result"
    }
   ],
   "source": [
    "x_train.shape"
   ]
  },
  {
   "cell_type": "code",
   "execution_count": 6,
   "metadata": {},
   "outputs": [
    {
     "data": {
      "text/plain": [
       "(7500,)"
      ]
     },
     "execution_count": 6,
     "metadata": {},
     "output_type": "execute_result"
    }
   ],
   "source": [
    "y_train.shape"
   ]
  },
  {
   "cell_type": "code",
   "execution_count": 8,
   "metadata": {},
   "outputs": [],
   "source": [
    "# Setting the random seed\n",
    "seed(1)\n",
    "tf.random.set_seed(1)\n",
    "\n",
    "# Function to define the CNN model for MNIST classification\n",
    "def cnn_model(pool_type=\"no_pooling\"):\n",
    "\n",
    "  # Intialize a sequential model\n",
    "  model = Sequential(name=pool_type) \n",
    "\n",
    "  # Define the input shape \n",
    "  input_shape = (28, 28, 1)\n",
    "\n",
    "  # Add a convolutional layer with 28 filters, kernel size of 3,\n",
    "  # input_shape as input_shape defined above and tanh activation\n",
    "  model.add(Conv2D(filters = 28, kernel_size = 3, activation = \"tanh\")) \n",
    "\n",
    "  # Define size of the pooling operation\n",
    "  pool_size=(3,3)\n",
    "\n",
    "  # Add an average pooling layer with pool size value as defined \n",
    "  # above by pool_size\n",
    "  if pool_type==\"avg_pooling\":\n",
    "    model.add(AveragePooling2D(pool_size=pool_size))\n",
    "    # strides If None, it will default to pool_size. \n",
    "\n",
    "  # Add a max pooling layer based with pool size value as defined \n",
    "  # above by pool_size\n",
    "  if pool_type==\"max_pooling\":\n",
    "    model.add(MaxPooling2D(pool_size = pool_size))\n",
    "\n",
    "  # Add a flatten layer\n",
    "  model.add(Flatten())\n",
    "\n",
    "  # Add a dense layer with ReLU activation with 16 nodes\n",
    "  model.add(Dense(16, activation = \"ReLU\"))\n",
    "\n",
    "  # Add a dropout layer with 0.3 as the dropout percentage\n",
    "  model.add(Dropout(rate = 0.3))\n",
    "\n",
    "  # Add an output layer with 10 nodes and softmax activation\n",
    "  model.add(Dense(10, activation = \"softmax\"))\n",
    "\n",
    "  # Compile the model with adam optimizer, \n",
    "  # sparse_categorical_crossentropy as the loss \n",
    "  # and accuracy as the metric\n",
    "  model.compile(loss = \"sparse_categorical_crossentropy\", metrics = [\"accuracy\"], optimizer = \"adam\")\n",
    "  \n",
    "  # Fit the model on the train data with 8 epochs\n",
    "  model.fit(x_train , y_train , epochs= 8, verbose=0, \n",
    "            shuffle=False, workers=0, use_multiprocessing=False)\n",
    "  # verbose = 1, show progress bar, = 0 no progress bar\n",
    "\n",
    "  return model\n",
    "\n"
   ]
  },
  {
   "cell_type": "code",
   "execution_count": 9,
   "metadata": {},
   "outputs": [
    {
     "name": "stdout",
     "output_type": "stream",
     "text": [
      "79/79 [==============================] - 3s 38ms/step - loss: 0.4006 - accuracy: 0.8756\n",
      "The accuracy of the model with no pooling is 0.8755999803543091\n"
     ]
    }
   ],
   "source": [
    "### edTest(test_no_pool) ###\n",
    "# Call the cnn_model function with pool_type as no_pooling \n",
    "# to get the trained model without pooling\n",
    "model = cnn_model(pool_type=\"no_pooling\")\n",
    "\n",
    "# Evaluate on the test data\n",
    "no_pool_acc = model.evaluate(x_test, y_test)\n",
    "print(\"The accuracy of the model with no pooling is\", no_pool_acc[1])\n",
    "\n",
    "# Get the number of parameters of the network\n",
    "no_pool_params = model.count_params()\n"
   ]
  },
  {
   "cell_type": "code",
   "execution_count": 10,
   "metadata": {},
   "outputs": [
    {
     "name": "stdout",
     "output_type": "stream",
     "text": [
      "79/79 [==============================] - 2s 26ms/step - loss: 0.3551 - accuracy: 0.8968\n",
      "The accuracy of the model with average pooling is 0.8967999815940857\n"
     ]
    }
   ],
   "source": [
    "### edTest(test_avg_pool) ###\n",
    "# Call the cnn_model function with pool_type as avg_pooling \n",
    "# to get the trained model with avg pooling\n",
    "model = cnn_model(pool_type=\"avg_pooling\")\n",
    "\n",
    "# Evaluate on the test data\n",
    "avg_pool_acc = model.evaluate(x_test, y_test)\n",
    "print(\"The accuracy of the model with average pooling is\", avg_pool_acc[1])\n",
    "\n",
    "# Get the number of parameters of the network\n",
    "avg_pool_params = model.count_params()\n"
   ]
  },
  {
   "cell_type": "code",
   "execution_count": 11,
   "metadata": {},
   "outputs": [
    {
     "name": "stdout",
     "output_type": "stream",
     "text": [
      "79/79 [==============================] - 2s 20ms/step - loss: 0.1688 - accuracy: 0.9500\n",
      "The accuracy of the model with max pooling is 0.949999988079071\n"
     ]
    }
   ],
   "source": [
    "### edTest(test_max_pool) ###\n",
    "# Call the cnn_model function with pool_type as max_pooling \n",
    "# to get the trained model with max pooling\n",
    "model = cnn_model(pool_type=\"max_pooling\")\n",
    "\n",
    "# Evaluate on the test data\n",
    "max_pool_acc = model.evaluate(x_test, y_test)\n",
    "print(\"The accuracy of the model with max pooling is\", max_pool_acc[1])\n",
    "\n",
    "# Get the number of parameters of the network\n",
    "max_pool_params = model.count_params()\n"
   ]
  },
  {
   "cell_type": "markdown",
   "metadata": {},
   "source": [
    "### ⏸ Based on the results seen here, which of the following is the most true?\n",
    "\n",
    "#### A. The average pooling provides no advantage over no pooling models.\n",
    "#### B. The no pooling model is more robust and reliable for all datasets.\n",
    "#### C. The max pooling and average pooling though have lower number of parameters takes longer time to train than the no pooling model.\n",
    "#### D. The max pooling model performs better as MNIST is made up of mostly edges and high contrasts which provide for max pooling to easily identify the sharp edges."
   ]
  },
  {
   "cell_type": "code",
   "execution_count": null,
   "metadata": {},
   "outputs": [],
   "source": [
    "### edTest(test_chow1) ###\n",
    "# Submit an answer choice as a string below (eg. if you choose option C, put 'C')\n",
    "answer1 = 'D'"
   ]
  },
  {
   "cell_type": "code",
   "execution_count": 12,
   "metadata": {},
   "outputs": [
    {
     "name": "stdout",
     "output_type": "stream",
     "text": [
      "+------------------+---------------+-----------+----------------------+\n",
      "|    Model Type    | Test Accuracy | Test Loss | Number of Parameters |\n",
      "+------------------+---------------+-----------+----------------------+\n",
      "| Without pooling  |     0.8756    |   0.4006  |        303314        |\n",
      "| With avg pooling |     0.8968    |   0.3551  |        29138         |\n",
      "| With max pooling |      0.95     |   0.1688  |        29138         |\n",
      "+------------------+---------------+-----------+----------------------+\n"
     ]
    }
   ],
   "source": [
    "### edTest(test_accuracy) ###\n",
    "# Display the models with their accuracy score and parameters \n",
    "table = PrettyTable()\n",
    "\n",
    "table.field_names = [\"Model Type\", \"Test Accuracy\", \"Test Loss\", \"Number of Parameters\"]\n",
    "table.add_row([\"Without pooling\", round(no_pool_acc[1],4), round(no_pool_acc[0],4), no_pool_params])\n",
    "table.add_row([\"With avg pooling\", round(avg_pool_acc[1],4), round(avg_pool_acc[0],4), avg_pool_params])\n",
    "table.add_row([\"With max pooling\", round(max_pool_acc[1],4), round(max_pool_acc[0],4), max_pool_params])\n",
    "print(table)"
   ]
  },
  {
   "cell_type": "code",
   "execution_count": 17,
   "metadata": {},
   "outputs": [
    {
     "name": "stdout",
     "output_type": "stream",
     "text": [
      "+------------------+---------------+-----------+----------------------+\n",
      "|    Model Type    | Test Accuracy | Test Loss | Number of Parameters |\n",
      "+------------------+---------------+-----------+----------------------+\n",
      "| Without pooling  |     0.8976    |   0.3426  |        303314        |\n",
      "| With avg pooling |     0.8732    |   0.4462  |        11666         |\n",
      "| With max pooling |      0.95     |   0.1733  |        11666         |\n",
      "+------------------+---------------+-----------+----------------------+\n"
     ]
    }
   ],
   "source": [
    "table = PrettyTable()\n",
    "\n",
    "table.field_names = [\"Model Type\", \"Test Accuracy\", \"Test Loss\", \"Number of Parameters\"]\n",
    "table.add_row([\"Without pooling\", round(no_pool_acc[1],4), round(no_pool_acc[0],4), no_pool_params])\n",
    "table.add_row([\"With avg pooling\", round(avg_pool_acc[1],4), round(avg_pool_acc[0],4), avg_pool_params])\n",
    "table.add_row([\"With max pooling\", round(max_pool_acc[1],4), round(max_pool_acc[0],4), max_pool_params])\n",
    "print(table)"
   ]
  },
  {
   "cell_type": "markdown",
   "metadata": {},
   "source": [
    "### ⏸ How does the accuracy and loss of the model vary by increasing the pool_size to (5x5)? Why does this happen?"
   ]
  },
  {
   "cell_type": "code",
   "execution_count": null,
   "metadata": {},
   "outputs": [],
   "source": [
    "### edTest(test_chow2) ###\n",
    "\n",
    "# Type your answer within in the quotes given\n",
    "answer2 = '___'"
   ]
  },
  {
   "cell_type": "code",
   "execution_count": 13,
   "metadata": {},
   "outputs": [],
   "source": [
    "seed(1)\n",
    "tf.random.set_seed(1)\n",
    "\n",
    "# Function to define the CNN model for MNIST classification\n",
    "def cnn_model(pool_type=\"no_pooling\"):\n",
    "\n",
    "  # Intialize a sequential model\n",
    "  model = Sequential(name=pool_type) \n",
    "\n",
    "  # Define the input shape \n",
    "  input_shape = (28, 28, 1)\n",
    "\n",
    "  # Add a convolutional layer with 28 filters, kernel size of 3,\n",
    "  # input_shape as input_shape defined above and tanh activation\n",
    "  model.add(Conv2D(filters = 28, kernel_size = 3, activation = \"tanh\")) \n",
    "\n",
    "  # Define size of the pooling operation\n",
    "  pool_size=(5,5)\n",
    "\n",
    "  # Add an average pooling layer with pool size value as defined \n",
    "  # above by pool_size\n",
    "  if pool_type==\"avg_pooling\":\n",
    "    model.add(AveragePooling2D(pool_size=pool_size))\n",
    "    # strides If None, it will default to pool_size. \n",
    "\n",
    "  # Add a max pooling layer based with pool size value as defined \n",
    "  # above by pool_size\n",
    "  if pool_type==\"max_pooling\":\n",
    "    model.add(MaxPooling2D(pool_size = pool_size))\n",
    "\n",
    "  # Add a flatten layer\n",
    "  model.add(Flatten())\n",
    "\n",
    "  # Add a dense layer with ReLU activation with 16 nodes\n",
    "  model.add(Dense(16, activation = \"ReLU\"))\n",
    "\n",
    "  # Add a dropout layer with 0.3 as the dropout percentage\n",
    "  model.add(Dropout(rate = 0.3))\n",
    "\n",
    "  # Add an output layer with 10 nodes and softmax activation\n",
    "  model.add(Dense(10, activation = \"softmax\"))\n",
    "\n",
    "  # Compile the model with adam optimizer, \n",
    "  # sparse_categorical_crossentropy as the loss \n",
    "  # and accuracy as the metric\n",
    "  model.compile(loss = \"sparse_categorical_crossentropy\", metrics = [\"accuracy\"], optimizer = \"adam\")\n",
    "  \n",
    "  # Fit the model on the train data with 8 epochs\n",
    "  model.fit(x_train , y_train , epochs= 8, verbose=0, \n",
    "            shuffle=False, workers=0, use_multiprocessing=False)\n",
    "\n",
    "  return model\n"
   ]
  },
  {
   "cell_type": "code",
   "execution_count": 14,
   "metadata": {},
   "outputs": [
    {
     "name": "stdout",
     "output_type": "stream",
     "text": [
      "79/79 [==============================] - 3s 40ms/step - loss: 0.3426 - accuracy: 0.8976\n",
      "The accuracy of the model with no pooling is 0.897599995136261\n"
     ]
    }
   ],
   "source": [
    "model = cnn_model(pool_type=\"no_pooling\")\n",
    "\n",
    "# Evaluate on the test data\n",
    "no_pool_acc = model.evaluate(x_test, y_test)\n",
    "print(\"The accuracy of the model with no pooling is\", no_pool_acc[1])\n",
    "\n",
    "# Get the number of parameters of the network\n",
    "no_pool_params = model.count_params()\n"
   ]
  },
  {
   "cell_type": "code",
   "execution_count": 15,
   "metadata": {},
   "outputs": [
    {
     "name": "stdout",
     "output_type": "stream",
     "text": [
      "79/79 [==============================] - 1s 8ms/step - loss: 0.4462 - accuracy: 0.8732\n",
      "The accuracy of the model with average pooling is 0.873199999332428\n"
     ]
    }
   ],
   "source": [
    "model = cnn_model(pool_type=\"avg_pooling\")\n",
    "\n",
    "# Evaluate on the test data\n",
    "avg_pool_acc = model.evaluate(x_test, y_test)\n",
    "print(\"The accuracy of the model with average pooling is\", avg_pool_acc[1])\n",
    "\n",
    "# Get the number of parameters of the network\n",
    "avg_pool_params = model.count_params()\n"
   ]
  },
  {
   "cell_type": "code",
   "execution_count": 16,
   "metadata": {},
   "outputs": [
    {
     "name": "stdout",
     "output_type": "stream",
     "text": [
      "79/79 [==============================] - 0s 3ms/step - loss: 0.1733 - accuracy: 0.9500\n",
      "The accuracy of the model with max pooling is 0.949999988079071\n"
     ]
    }
   ],
   "source": [
    "model = cnn_model(pool_type=\"max_pooling\")\n",
    "\n",
    "# Evaluate on the test data\n",
    "max_pool_acc = model.evaluate(x_test, y_test)\n",
    "print(\"The accuracy of the model with max pooling is\", max_pool_acc[1])\n",
    "\n",
    "# Get the number of parameters of the network\n",
    "max_pool_params = model.count_params()"
   ]
  }
 ],
 "metadata": {
  "kernelspec": {
   "display_name": "Python 3",
   "language": "python",
   "name": "python3"
  },
  "language_info": {
   "codemirror_mode": {
    "name": "ipython",
    "version": 3
   },
   "file_extension": ".py",
   "mimetype": "text/x-python",
   "name": "python",
   "nbconvert_exporter": "python",
   "pygments_lexer": "ipython3",
   "version": "3.11.3"
  }
 },
 "nbformat": 4,
 "nbformat_minor": 1
}
